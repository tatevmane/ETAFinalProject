{
 "cells": [
  {
   "cell_type": "markdown",
   "id": "8163e8c1",
   "metadata": {},
   "source": [
    "## Importing Libraries"
   ]
  },
  {
   "cell_type": "code",
   "execution_count": 1,
   "id": "47e3dfbb",
   "metadata": {},
   "outputs": [],
   "source": [
    "import pandas as pd\n",
    "import numpy as np\n",
    "import seaborn as sns\n",
    "import nltk\n",
    "from nltk.stem.porter import PorterStemmer\n",
    "from nltk.stem.snowball import SnowballStemmer\n",
    "from nltk.stem.lancaster import LancasterStemmer\n",
    "import re\n",
    "import warnings\n",
    "warnings.filterwarnings(\"ignore\")"
   ]
  },
  {
   "cell_type": "code",
   "execution_count": null,
   "id": "1bce6079",
   "metadata": {},
   "outputs": [],
   "source": [
    "directory = \"./\"\n",
    "data_files = \"./files/\"\n",
    "data_out = \"./data/\""
   ]
  },
  {
   "cell_type": "code",
   "execution_count": null,
   "id": "aa562a54",
   "metadata": {},
   "outputs": [],
   "source": []
  },
  {
   "cell_type": "markdown",
   "id": "690c6086",
   "metadata": {},
   "source": [
    "## Creating LIB"
   ]
  },
  {
   "cell_type": "code",
   "execution_count": null,
   "id": "1915a57a",
   "metadata": {},
   "outputs": [],
   "source": [
    "LIB = pd.concat([cnn_lib, cnbc_lib], axis=0).reset_index().drop(\"index\", axis=1)"
   ]
  },
  {
   "cell_type": "code",
   "execution_count": null,
   "id": "cc33a171",
   "metadata": {},
   "outputs": [],
   "source": [
    "LIB.sample(10)"
   ]
  },
  {
   "cell_type": "code",
   "execution_count": null,
   "id": "42c83328",
   "metadata": {},
   "outputs": [],
   "source": [
    "#making lib a csv\n",
    "LIB.to_csv(data_out+\"LIB.csv\", index=False)"
   ]
  },
  {
   "cell_type": "markdown",
   "id": "df894b72",
   "metadata": {},
   "source": [
    "## Sorting into Paragraphs"
   ]
  },
  {
   "cell_type": "code",
   "execution_count": null,
   "id": "eca1c7b9",
   "metadata": {},
   "outputs": [],
   "source": [
    "PARAS = LIB['text'].str.split(\"\\+\\+\\+\", expand=True).stack()\\\n",
    "    .to_frame('para_str').sort_index()\n",
    "PARAS.index.names = ['text_num', 'para_num']\n",
    "PARAS['para_str'] = PARAS['para_str'].str.replace(r'\\n', ' ', regex=True)\n",
    "PARAS['para_str'] = PARAS['para_str'].str.strip()\n",
    "PARAS = PARAS[~PARAS['para_str'].str.match(r'^\\s*$')]"
   ]
  },
  {
   "cell_type": "code",
   "execution_count": null,
   "id": "eec3dad7",
   "metadata": {},
   "outputs": [],
   "source": [
    "PARAS"
   ]
  },
  {
   "cell_type": "markdown",
   "id": "5dcf75c9",
   "metadata": {},
   "source": [
    "## Sorting into Sentences"
   ]
  },
  {
   "cell_type": "code",
   "execution_count": null,
   "id": "15ade19a",
   "metadata": {},
   "outputs": [],
   "source": [
    "SENTS = PARAS.para_str.apply(lambda x: pd.Series(nltk.sent_tokenize(x)))\\\n",
    "        .stack()\\\n",
    "        .to_frame('sent_str')\n",
    "SENTS.index.names = ['text_num', 'para_num', 'sent_num']"
   ]
  },
  {
   "cell_type": "code",
   "execution_count": null,
   "id": "3a5a5d63",
   "metadata": {},
   "outputs": [],
   "source": [
    "# standardizing text\n",
    "SENTS['sent_str'] = SENTS['sent_str'].str.replace(r'\\W', ' ').str.lower()\n",
    "SENTS"
   ]
  },
  {
   "cell_type": "markdown",
   "id": "5fb0cf27",
   "metadata": {},
   "source": [
    "## Getting Tokens"
   ]
  },
  {
   "cell_type": "code",
   "execution_count": null,
   "id": "ea8a5d4d",
   "metadata": {},
   "outputs": [],
   "source": [
    "keep_whitespace = True\n",
    "if keep_whitespace:\n",
    "    TOKENS = SENTS.sent_str\\\n",
    "            .apply(lambda x: pd.Series(nltk.pos_tag(nltk.word_tokenize(x))))\\\n",
    "            .stack()\\\n",
    "            .to_frame('pos_tuple')\n",
    "else:\n",
    "    TOKENS = SENTS.sent_str\\\n",
    "            .apply(lambda x: pd.Series(nltk.pos_tag(nltk.WhitespaceTokenizer().tokenize(x))))\\\n",
    "            .stack()\\\n",
    "            .to_frame('pos_tuple')"
   ]
  },
  {
   "cell_type": "code",
   "execution_count": null,
   "id": "d640c9fa",
   "metadata": {},
   "outputs": [],
   "source": [
    "TOKENS.index.names = ['text_num', 'para_num', \"sent_num\",\"token_num\"]\n",
    "TOKENS"
   ]
  },
  {
   "cell_type": "markdown",
   "id": "11c0544d",
   "metadata": {},
   "source": [
    "## Making the Corups"
   ]
  },
  {
   "cell_type": "code",
   "execution_count": null,
   "id": "26273e1e",
   "metadata": {},
   "outputs": [],
   "source": [
    "CORPUS = TOKENS\n",
    "CORPUS['pos'] = CORPUS.pos_tuple.apply(lambda x: x[1])\n",
    "CORPUS['token_str'] = CORPUS.pos_tuple.apply(lambda x: x[0])\n",
    "CORPUS['term_str'] = CORPUS.token_str.str.lower()"
   ]
  },
  {
   "cell_type": "code",
   "execution_count": null,
   "id": "33665529",
   "metadata": {},
   "outputs": [],
   "source": [
    "CORPUS"
   ]
  },
  {
   "cell_type": "code",
   "execution_count": null,
   "id": "4b34e5ef",
   "metadata": {},
   "outputs": [],
   "source": [
    "CORPUS.reset_index(inplace=True)"
   ]
  },
  {
   "cell_type": "code",
   "execution_count": null,
   "id": "21d34ffd",
   "metadata": {},
   "outputs": [],
   "source": [
    "CORPUS['source'] = CORPUS['text_num'].apply(lambda x: 'CNN' if x <= 489 else 'CNBC')"
   ]
  },
  {
   "cell_type": "code",
   "execution_count": null,
   "id": "862727c6",
   "metadata": {},
   "outputs": [],
   "source": [
    "CORPUS.set_index(['source', 'text_num', 'para_num', 'sent_num', 'token_num'])"
   ]
  },
  {
   "cell_type": "code",
   "execution_count": null,
   "id": "194e8108",
   "metadata": {},
   "outputs": [],
   "source": [
    "# corpus to csv\n",
    "CORPUS.to_csv(data_out+\"CORPUS.csv\")"
   ]
  },
  {
   "cell_type": "markdown",
   "id": "957eb54d",
   "metadata": {},
   "source": [
    "## Extracting VOCAB"
   ]
  },
  {
   "cell_type": "code",
   "execution_count": null,
   "id": "35c5aa74",
   "metadata": {},
   "outputs": [],
   "source": [
    "VOCAB = CORPUS.term_str.value_counts().to_frame('n').sort_index()\n",
    "VOCAB.index.name = 'term_str'\n",
    "VOCAB['n_chars'] = VOCAB.index.str.len()\n",
    "VOCAB['p'] = VOCAB.n / VOCAB.n.sum()\n",
    "VOCAB['i'] = -np.log2(VOCAB.p)\n",
    "VOCAB['max_pos'] = CORPUS[['term_str','pos']].value_counts().unstack(fill_value=0).idxmax(1)\n",
    "VOCAB['n_pos'] = CORPUS[['term_str','pos']].value_counts().unstack().count(1)\n",
    "VOCAB['cat_pos'] = CORPUS[['term_str','pos']].value_counts().to_frame('n').reset_index()\\\n",
    "    .groupby('term_str').pos.apply(lambda x: set(x))\n",
    "sw = pd.DataFrame(nltk.corpus.stopwords.words('english'), columns=['term_str'])\n",
    "sw = sw.reset_index().set_index('term_str')\n",
    "sw.columns = ['dummy']\n",
    "sw.dummy = 1\n",
    "VOCAB['stop'] = VOCAB.index.map(sw.dummy)\n",
    "VOCAB['stop'] = VOCAB['stop'].fillna(0).astype('int')\n",
    "VOCAB = VOCAB.drop('cat_pos', 1) \n",
    "\n",
    "stemmer1 = PorterStemmer()\n",
    "VOCAB['stem_porter'] = VOCAB.apply(lambda x: stemmer1.stem(x.name), 1)\n",
    "\n",
    "stemmer2 = SnowballStemmer(\"english\")\n",
    "VOCAB['stem_snowball'] = VOCAB.apply(lambda x: stemmer2.stem(x.name), 1)\n",
    "\n",
    "stemmer3 = LancasterStemmer()\n",
    "VOCAB['stem_lancaster'] = VOCAB.apply(lambda x: stemmer3.stem(x.name), 1)\n",
    "\n",
    "VOCAB.sort_values('p', ascending=False).head(10)"
   ]
  },
  {
   "cell_type": "code",
   "execution_count": null,
   "id": "cfb2bc32",
   "metadata": {},
   "outputs": [],
   "source": [
    "VOCAB"
   ]
  },
  {
   "cell_type": "code",
   "execution_count": null,
   "id": "16b01937",
   "metadata": {},
   "outputs": [],
   "source": [
    "# vocab to csv\n",
    "VOCAB.to_csv(data_out+\"VOCAB.csv\")"
   ]
  }
 ],
 "metadata": {
  "kernelspec": {
   "display_name": "Python 3 (ipykernel)",
   "language": "python",
   "name": "python3"
  },
  "language_info": {
   "codemirror_mode": {
    "name": "ipython",
    "version": 3
   },
   "file_extension": ".py",
   "mimetype": "text/x-python",
   "name": "python",
   "nbconvert_exporter": "python",
   "pygments_lexer": "ipython3",
   "version": "3.9.13"
  }
 },
 "nbformat": 4,
 "nbformat_minor": 5
}
